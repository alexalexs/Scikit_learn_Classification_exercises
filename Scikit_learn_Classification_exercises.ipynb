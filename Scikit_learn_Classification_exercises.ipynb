{
  "cells": [
    {
      "cell_type": "markdown",
      "metadata": {
        "id": "view-in-github",
        "colab_type": "text"
      },
      "source": [
        "<a href=\"https://colab.research.google.com/github/alexalexs/Scikit_learn_Classification_exercises/blob/main/Scikit_learn_Classification_exercises.ipynb\" target=\"_parent\"><img src=\"https://colab.research.google.com/assets/colab-badge.svg\" alt=\"Open In Colab\"/></a>"
      ]
    },
    {
      "cell_type": "markdown",
      "source": [
        "# Interactive plotting scikit-learn, lightgbm and xgboost estimators metrics using plotly and beakerX in Jupyter Notebook"
      ],
      "metadata": {
        "id": "6_ni8QMCD5rV"
      }
    },
    {
      "cell_type": "markdown",
      "source": [
        "#### Only for google.colab"
      ],
      "metadata": {
        "id": "MIsJj7eTDhXG"
      }
    },
    {
      "cell_type": "code",
      "source": [
        "from google.colab import output\n",
        "output.enable_custom_widget_manager()"
      ],
      "metadata": {
        "id": "qZQ9ZAYBsa22"
      },
      "execution_count": 13,
      "outputs": []
    },
    {
      "cell_type": "markdown",
      "metadata": {
        "id": "E3ala2AaqAo5"
      },
      "source": [
        "### This is resolve classification problem from as possible as estimators from sklearn, lightgbm and xgboost, with default hyper parameters"
      ]
    },
    {
      "cell_type": "markdown",
      "metadata": {
        "id": "xwdko2-aqAo-"
      },
      "source": [
        "#### Index:\n",
        "#### 1. [Importing libs](#1)\n",
        "#### 2. [Setting random seed for repetitions](#2)\n",
        "#### 3. [Generating classification problem](#4)\n",
        "#### 4. [Preprocessing data](#5)\n",
        "#### 5. [Function for calculating metrics](#6)\n",
        "#### 6. [Going across all estimators](#7)\n",
        "#### 7. [Leaderboard of estimators](#8)"
      ]
    },
    {
      "cell_type": "markdown",
      "metadata": {
        "id": "Zd6WILTsqAo_"
      },
      "source": [
        "#### Importing libs \n",
        "<a id='1'></a>"
      ]
    },
    {
      "cell_type": "code",
      "execution_count": 14,
      "metadata": {
        "colab": {
          "base_uri": "https://localhost:8080/"
        },
        "id": "9_RskJ2a1ok0",
        "outputId": "c4316635-257e-496b-d71c-57d1b7960d84"
      },
      "outputs": [
        {
          "output_type": "stream",
          "name": "stdout",
          "text": [
            "Looking in indexes: https://pypi.org/simple, https://us-python.pkg.dev/colab-wheels/public/simple/\n",
            "Requirement already satisfied: plotly in /usr/local/lib/python3.7/dist-packages (5.5.0)\n",
            "Requirement already satisfied: six in /usr/local/lib/python3.7/dist-packages (from plotly) (1.15.0)\n",
            "Requirement already satisfied: tenacity>=6.2.0 in /usr/local/lib/python3.7/dist-packages (from plotly) (8.0.1)\n"
          ]
        }
      ],
      "source": [
        "%matplotlib inline\n",
        "from sklearn.ensemble import *\n",
        "from sklearn.tree import *\n",
        "from sklearn.linear_model import *\n",
        "from sklearn.base import *\n",
        "from sklearn.dummy import *\n",
        "from sklearn.gaussian_process import *\n",
        "from sklearn.naive_bayes import *\n",
        "from sklearn.neighbors import *\n",
        "from sklearn.svm import *\n",
        "from sklearn.neural_network import *\n",
        "from sklearn.discriminant_analysis import *\n",
        "from sklearn.datasets import *\n",
        "from sklearn.preprocessing import *\n",
        "from sklearn.model_selection import *\n",
        "from sklearn.metrics import *\n",
        "from lightgbm import LGBMClassifier\n",
        "from xgboost import XGBClassifier\n",
        "import copy\n",
        "import time\n",
        "import random\n",
        "import pandas as pd\n",
        "import numpy as np\n",
        "# from frozendict import frozendict\n",
        "import matplotlib.pyplot as plt\n",
        "#!pip install beakerx #not working in colab yet :)\n",
        "#import beakerx\n",
        "from IPython.display import clear_output\n",
        "# clear_output(wait=True)\n",
        "import warnings\n",
        "warnings.simplefilter(action='ignore', category=FutureWarning)\n",
        "!pip install plotly\n",
        "import plotly\n",
        "from plotly.offline import iplot\n",
        "from plotly.graph_objs import graph_objs as go\n",
        "import ipywidgets as widgets\n",
        "from IPython.display import display\n",
        "warnings.filterwarnings(\"ignore\")"
      ]
    },
    {
      "cell_type": "markdown",
      "metadata": {
        "id": "iLXovulXqApD"
      },
      "source": [
        "#### Setting random seed for repetitions\n",
        "<a id='2'></a>"
      ]
    },
    {
      "cell_type": "code",
      "execution_count": 15,
      "metadata": {
        "id": "mMAa1p6XNoXE"
      },
      "outputs": [],
      "source": [
        "random.seed(434)\n",
        "np.random.seed(342)"
      ]
    },
    {
      "cell_type": "markdown",
      "metadata": {
        "id": "MiJyvFmUqApE"
      },
      "source": [
        "#### This estimators required some  extra conditions unlike others (or may be time consuming)"
      ]
    },
    {
      "cell_type": "code",
      "execution_count": 16,
      "metadata": {
        "id": "3H9fKS3aqApE"
      },
      "outputs": [],
      "source": [
        "EXLUDE=['VotingClassifier','MultinomialNB','ComplementNB','RadiusNeighborsClassifier','NuSVC','DummyClassifier','StackingClassifier','CategoricalNB','XGBClassifier']"
      ]
    },
    {
      "cell_type": "markdown",
      "metadata": {
        "id": "3c4LHpG1qApF"
      },
      "source": [
        "#### This is lazy way to get instances of all imported estimators"
      ]
    },
    {
      "cell_type": "code",
      "execution_count": 17,
      "metadata": {
        "id": "6fAloqx_5o6T"
      },
      "outputs": [],
      "source": [
        "g_=dict(globals().items())"
      ]
    },
    {
      "cell_type": "code",
      "execution_count": 18,
      "metadata": {
        "id": "RJUpT6-fMdEM"
      },
      "outputs": [],
      "source": [
        "clf_={}\n",
        "for k,v in g_.items():\n",
        "    try:\n",
        "        if is_classifier(v)==True:\n",
        "            if 'Mixin' not in k and k not in EXLUDE:\n",
        "                clf_[k]=v\n",
        "    except:\n",
        "        pass"
      ]
    },
    {
      "cell_type": "markdown",
      "metadata": {
        "id": "bK_ZSGW5qApG"
      },
      "source": [
        "#### Generating classification problem\n",
        "<a id='4'></a>"
      ]
    },
    {
      "cell_type": "code",
      "execution_count": 19,
      "metadata": {
        "id": "pGHt8mKDIMg4"
      },
      "outputs": [],
      "source": [
        "X, y = make_multilabel_classification(n_samples=200, n_features=3, n_classes=1, n_labels=1)"
      ]
    },
    {
      "cell_type": "markdown",
      "source": [
        "You can use local data from train.csv"
      ],
      "metadata": {
        "id": "XZJ5ucltDFIc"
      }
    },
    {
      "cell_type": "code",
      "execution_count": 20,
      "metadata": {
        "id": "9wknZq9DqApH"
      },
      "outputs": [],
      "source": [
        "# df=pd.read_csv('train.csv')\n",
        "# y=df.pop('target')\n",
        "# X=df.drop(['ID_code']+list(df.columns[4::]),axis=1) # only 3 features\n",
        "# del df"
      ]
    },
    {
      "cell_type": "markdown",
      "metadata": {
        "id": "-KFXsydtqApH"
      },
      "source": [
        "#### Preprocessing data\n",
        "<a id='5'></a>"
      ]
    },
    {
      "cell_type": "code",
      "execution_count": 21,
      "metadata": {
        "colab": {
          "base_uri": "https://localhost:8080/"
        },
        "id": "GWyVCgAMNzcu",
        "outputId": "30cd5b67-7ee0-4075-bd3a-23b88ed64dcd"
      },
      "outputs": [
        {
          "output_type": "stream",
          "name": "stdout",
          "text": [
            "(100, 3)\n"
          ]
        }
      ],
      "source": [
        "# preprocess dataset, split into training and test part\n",
        "X = StandardScaler().fit_transform(X)\n",
        "X_train, X_test, y_train, y_test = \\\n",
        "    train_test_split(X, y, test_size=.5, random_state=42)\n",
        "print(X_train.shape)"
      ]
    },
    {
      "cell_type": "markdown",
      "metadata": {
        "id": "ffOtC9qoqApK"
      },
      "source": [
        "### Going across all estimators \n",
        "<a id='7'></a>"
      ]
    },
    {
      "cell_type": "code",
      "execution_count": 22,
      "metadata": {
        "id": "U4uSt73pqApK"
      },
      "outputs": [],
      "source": [
        "class clf_all:\n",
        "\n",
        "    def __init__(self, clf_list, metrics=None):\n",
        "\n",
        "        if metrics == None:\n",
        "            metrics = {'accuracy_score': accuracy_score,\n",
        "                       'balanced_accuracy_score': balanced_accuracy_score, 'log_loss': log_loss,\n",
        "                       'roc_auc_score': roc_auc_score,\n",
        "                       'f1_score': f1_score,\n",
        "                       'hamming_loss': hamming_loss,\n",
        "                       'zero_one_loss': zero_one_loss\n",
        "                       }\n",
        "        self.clf_list = clf_list\n",
        "        self.metrics = metrics\n",
        "        \n",
        "        # Function for bar plot\n",
        "        name = list(metrics.keys())\n",
        "        layout = go.Layout(title='Metrics')\n",
        "        t = [go.Bar(x=[], y=[], name=k) for k in name]\n",
        "        fig = go.FigureWidget(data=t, layout=layout)\n",
        "        display(fig)\n",
        "        self.fig = fig\n",
        "\n",
        "        # Method for pie plot\n",
        "        trace = go.Pie(labels=[i for i in clf_], values=[])\n",
        "        layout = go.Layout(title='Time consuming')\n",
        "        fig = go.FigureWidget(data=[trace], layout=layout)\n",
        "        display(fig)\n",
        "        self.fig2 = fig\n",
        "\n",
        "        # Leaderboard table\n",
        "        dict_leader = {}\n",
        "        for i in list(metrics.keys()):\n",
        "            dict_leader[(i)] = {i_2: 0 for i_1,\n",
        "                                i_2 in enumerate(list(clf_list.keys()))}\n",
        "        self.dict_leader = dict_leader\n",
        "\n",
        "    # Method for calculating metrics\n",
        "    def metrics_calc(self, y, y_pred):\n",
        "        self.score = {}\n",
        "        for name, metrics in self.metrics.items():\n",
        "            self.score[name] = metrics(y, y_pred)\n",
        "        return self.score\n",
        "\n",
        "    def fit(self, X_train, y_train, X_valid, y_valid, X_test=None):\n",
        "        self.clf_arr = dict()\n",
        "        self.time_ = []\n",
        "        for name, clf in self.clf_list.items():\n",
        "            print(name)\n",
        "            clf = clf()\n",
        "            t1 = time.time()\n",
        "            clf.fit(X_train, y_train)\n",
        "            self.time_.append(time.time()-t1)\n",
        "            self.clf_arr[name] = {'metrics': self.metrics_calc(\n",
        "                y_valid, clf.predict(X_valid))}\n",
        "            self.clf_arr[name]['obj'] = clf\n",
        "            if hasattr(clf, 'feature_importances_'):\n",
        "                self.clf_arr[name]['feature_importances_'] = clf.feature_importances_\n",
        "            # Update plot\n",
        "            self.update_plot()\n",
        "        # self.leader_board() # when beakerX will work\n",
        "\n",
        "    def update_plot(self):\n",
        "        fig = self.fig\n",
        "        c = self.clf_arr\n",
        "        name = list(c[list(c.keys())[0]]['metrics'].keys())\n",
        "        y_1 = {}\n",
        "        for i, i_n in enumerate(name):  # count=number of metrics\n",
        "            y_ = []\n",
        "            x_ = []\n",
        "            for k1, v1 in c.items():  # count=number of estimators\n",
        "                y_.append(v1['metrics'][i_n])\n",
        "                x_.append(k1)\n",
        "            y_1[i_n] = y_\n",
        "\n",
        "        # Pie plot\n",
        "        for i in self.fig2.data:\n",
        "            i['values'] = self.time_\n",
        "        dict_leader = {}  # Dict for leaderboard\n",
        "        for i in fig.data:\n",
        "            i['x'] = x_\n",
        "            i['y'] = y_1[i['name']]\n",
        "            # Dict for leaderboard\n",
        "            dict_leader[(i['name'])] = {i_2: y_1[i['name']][i_1]\n",
        "                                        for i_1, i_2 in enumerate(x_)}\n",
        "        self.dict_leader = dict_leader\n",
        "\n",
        "    def leader_board(self):\n",
        "        pass\n",
        "        df = pd.DataFrame(self.dict_leader)\n",
        "        td = beakerx.TableDisplay(df)\n",
        "        td.addCellHighlighter(beakerx.HeatmapHighlighter('accuracy_score', beakerx.HighlightStyle.SINGLE_COLUMN,\n",
        "                              df['accuracy_score'].max()-0.001, df['accuracy_score'].max(), beakerx.Color.white, beakerx.Color.LIGHT_GRAY))\n",
        "        td.addCellHighlighter(beakerx.HeatmapHighlighter('log_loss', beakerx.HighlightStyle.SINGLE_COLUMN,\n",
        "                              df['log_loss'].min()+0.001, df['log_loss'].min(), beakerx.Color.WHITE, beakerx.Color.GREEN))\n",
        "        td.addCellHighlighter(beakerx.HeatmapHighlighter('roc_auc_score', beakerx.HighlightStyle.SINGLE_COLUMN,\n",
        "                              df['roc_auc_score'].max()-0.001, df['roc_auc_score'].max(), beakerx.Color.WHITE, beakerx.Color.RED))\n",
        "        td.addCellHighlighter(beakerx.HeatmapHighlighter('f1_score', beakerx.HighlightStyle.SINGLE_COLUMN,\n",
        "                              df['f1_score'].max()-0.001, df['f1_score'].max(), beakerx.Color.WHITE, beakerx.Color.CYAN))\n",
        "        td.addCellHighlighter(beakerx.HeatmapHighlighter('balanced_accuracy_score', beakerx.HighlightStyle.SINGLE_COLUMN,\n",
        "                              df['balanced_accuracy_score'].max()-0.001, df['balanced_accuracy_score'].max(), beakerx.Color.WHITE, beakerx.Color.MAGENTA))\n",
        "        td.addCellHighlighter(beakerx.HeatmapHighlighter('hamming_loss', beakerx.HighlightStyle.SINGLE_COLUMN,\n",
        "                              df['hamming_loss'].max()-0.001, df['hamming_loss'].max(), beakerx.Color.WHITE, beakerx.Color.ORANGE))\n",
        "        td.addCellHighlighter(beakerx.HeatmapHighlighter('zero_one_loss', beakerx.HighlightStyle.SINGLE_COLUMN,\n",
        "                              df['zero_one_loss'].min()+0.001, df['zero_one_loss'].min(), beakerx.Color.WHITE, beakerx.Color.PINK))\n",
        "        display(td)\n",
        "        self.td = td\n"
      ]
    },
    {
      "cell_type": "code",
      "execution_count": 23,
      "metadata": {
        "colab": {
          "base_uri": "https://localhost:8080/",
          "height": 917,
          "referenced_widgets": [
            "bec6b5d1a6b44ab8a0dfec41fde836c7",
            "bc170184aa15486e8924577a926257e2"
          ]
        },
        "id": "1UOAUjqPqApN",
        "outputId": "4ec342e4-bd6f-4531-ddce-8d4906940b9a"
      },
      "outputs": [
        {
          "output_type": "display_data",
          "data": {
            "text/plain": [
              "FigureWidget({\n",
              "    'data': [{'name': 'accuracy_score', 'type': 'bar', 'uid': '16f4574b-8b71-4b31-808e-356e3f95…"
            ],
            "application/vnd.jupyter.widget-view+json": {
              "version_major": 2,
              "version_minor": 0,
              "model_id": "bec6b5d1a6b44ab8a0dfec41fde836c7"
            }
          },
          "metadata": {
            "application/vnd.jupyter.widget-view+json": {
              "colab": {
                "custom_widget_manager": {
                  "url": "https://ssl.gstatic.com/colaboratory-static/widgets/colab-cdn-widget-manager/a8874ba6619b6106/manager.min.js"
                }
              }
            }
          }
        },
        {
          "output_type": "display_data",
          "data": {
            "text/plain": [
              "FigureWidget({\n",
              "    'data': [{'labels': [RandomForestClassifier, ExtraTreesClassifier,\n",
              "                        …"
            ],
            "application/vnd.jupyter.widget-view+json": {
              "version_major": 2,
              "version_minor": 0,
              "model_id": "bc170184aa15486e8924577a926257e2"
            }
          },
          "metadata": {
            "application/vnd.jupyter.widget-view+json": {
              "colab": {
                "custom_widget_manager": {
                  "url": "https://ssl.gstatic.com/colaboratory-static/widgets/colab-cdn-widget-manager/a8874ba6619b6106/manager.min.js"
                }
              }
            }
          }
        }
      ],
      "source": [
        "clf_1=clf_all(clf_)"
      ]
    },
    {
      "cell_type": "code",
      "execution_count": 24,
      "metadata": {
        "scrolled": false,
        "colab": {
          "base_uri": "https://localhost:8080/",
          "height": 468
        },
        "id": "zAiiW-dPqApO",
        "outputId": "1f7c896e-32bd-4a6f-875c-2305c9b34ead"
      },
      "outputs": [
        {
          "output_type": "stream",
          "name": "stdout",
          "text": [
            "RandomForestClassifier\n",
            "ExtraTreesClassifier\n",
            "BaggingClassifier\n",
            "GradientBoostingClassifier\n",
            "AdaBoostClassifier\n",
            "HistGradientBoostingClassifier\n",
            "DecisionTreeClassifier\n",
            "ExtraTreeClassifier\n",
            "LogisticRegression\n",
            "LogisticRegressionCV\n",
            "PassiveAggressiveClassifier\n",
            "Perceptron\n",
            "RidgeClassifier\n",
            "RidgeClassifierCV\n",
            "SGDClassifier\n",
            "GaussianProcessClassifier\n",
            "BernoulliNB\n",
            "GaussianNB\n",
            "KNeighborsClassifier\n",
            "NearestCentroid\n",
            "LinearSVC\n",
            "SVC\n",
            "MLPClassifier\n",
            "LinearDiscriminantAnalysis\n",
            "QuadraticDiscriminantAnalysis\n",
            "LGBMClassifier\n"
          ]
        }
      ],
      "source": [
        "clf_1.fit(X_train, y_train,X_test,y_test)"
      ]
    },
    {
      "cell_type": "markdown",
      "metadata": {
        "id": "9G4gcKIHqApO"
      },
      "source": [
        "### Leaderboard of estimators\n",
        "<a id='8'></a>"
      ]
    }
  ],
  "metadata": {
    "colab": {
      "collapsed_sections": [],
      "name": "Scikit_learn_Classification_exercises.ipynb",
      "provenance": [],
      "include_colab_link": true
    },
    "kernelspec": {
      "display_name": "Python 3 (ipykernel)",
      "language": "python",
      "name": "python3"
    },
    "language_info": {
      "codemirror_mode": {
        "name": "ipython",
        "version": 3
      },
      "file_extension": ".py",
      "mimetype": "text/x-python",
      "name": "python",
      "nbconvert_exporter": "python",
      "pygments_lexer": "ipython3",
      "version": "3.10.4"
    },
    "toc": {
      "base_numbering": 1,
      "nav_menu": {},
      "number_sections": false,
      "sideBar": false,
      "skip_h1_title": false,
      "title_cell": "Table of Contents",
      "title_sidebar": "Contents",
      "toc_cell": false,
      "toc_position": {},
      "toc_section_display": true,
      "toc_window_display": false
    },
    "widgets": {
      "application/vnd.jupyter.widget-state+json": {
        "bec6b5d1a6b44ab8a0dfec41fde836c7": {
          "model_module": "jupyterlab-plotly",
          "model_name": "FigureModel",
          "model_module_version": "^5.5.0",
          "state": {
            "_config": {
              "plotlyServerURL": "https://plot.ly"
            },
            "_data": [
              {
                "name": "accuracy_score",
                "x": [],
                "y": [],
                "type": "bar",
                "uid": "16f4574b-8b71-4b31-808e-356e3f95a89b"
              },
              {
                "name": "balanced_accuracy_score",
                "x": [],
                "y": [],
                "type": "bar",
                "uid": "75854b73-d9af-46d8-85ad-24c9e1b24a4d"
              },
              {
                "name": "log_loss",
                "x": [],
                "y": [],
                "type": "bar",
                "uid": "2596d9b8-0b2b-4d62-8145-e56d2067efe3"
              },
              {
                "name": "roc_auc_score",
                "x": [],
                "y": [],
                "type": "bar",
                "uid": "9d9aac0e-80bb-4ef3-830c-82090180c175"
              },
              {
                "name": "f1_score",
                "x": [],
                "y": [],
                "type": "bar",
                "uid": "d8cd009d-f6a9-44b0-b426-26a864e5dc08"
              },
              {
                "name": "hamming_loss",
                "x": [],
                "y": [],
                "type": "bar",
                "uid": "fbb55449-c90c-4b53-834b-db4fd9e83f1b"
              },
              {
                "name": "zero_one_loss",
                "x": [],
                "y": [],
                "type": "bar",
                "uid": "42543a64-892d-4c2d-9d8b-9057695588a3"
              }
            ],
            "_dom_classes": [],
            "_js2py_layoutDelta": null,
            "_js2py_pointsCallback": {},
            "_js2py_relayout": null,
            "_js2py_restyle": {},
            "_js2py_traceDeltas": null,
            "_js2py_update": {},
            "_last_layout_edit_id": 365,
            "_last_trace_edit_id": 364,
            "_layout": {
              "title": {
                "text": "Metrics"
              }
            },
            "_model_module": "jupyterlab-plotly",
            "_model_module_version": "^5.5.0",
            "_model_name": "FigureModel",
            "_py2js_addTraces": {},
            "_py2js_animate": {},
            "_py2js_deleteTraces": {},
            "_py2js_moveTraces": {},
            "_py2js_relayout": null,
            "_py2js_removeLayoutProps": {},
            "_py2js_removeTraceProps": {},
            "_py2js_restyle": null,
            "_py2js_update": {},
            "_view_count": 1,
            "_view_module": "jupyterlab-plotly",
            "_view_module_version": "^5.5.0",
            "_view_name": "FigureView"
          }
        },
        "bc170184aa15486e8924577a926257e2": {
          "model_module": "jupyterlab-plotly",
          "model_name": "FigureModel",
          "model_module_version": "^5.5.0",
          "state": {
            "_config": {
              "plotlyServerURL": "https://plot.ly"
            },
            "_data": [
              {
                "labels": [
                  "RandomForestClassifier",
                  "ExtraTreesClassifier",
                  "BaggingClassifier",
                  "GradientBoostingClassifier",
                  "AdaBoostClassifier",
                  "HistGradientBoostingClassifier",
                  "DecisionTreeClassifier",
                  "ExtraTreeClassifier",
                  "LogisticRegression",
                  "LogisticRegressionCV",
                  "PassiveAggressiveClassifier",
                  "Perceptron",
                  "RidgeClassifier",
                  "RidgeClassifierCV",
                  "SGDClassifier",
                  "GaussianProcessClassifier",
                  "BernoulliNB",
                  "GaussianNB",
                  "KNeighborsClassifier",
                  "NearestCentroid",
                  "LinearSVC",
                  "SVC",
                  "MLPClassifier",
                  "LinearDiscriminantAnalysis",
                  "QuadraticDiscriminantAnalysis",
                  "LGBMClassifier"
                ],
                "values": [],
                "type": "pie",
                "uid": "6aa1613d-2fa9-493a-8385-ed260efdd049"
              }
            ],
            "_dom_classes": [],
            "_js2py_layoutDelta": null,
            "_js2py_pointsCallback": null,
            "_js2py_relayout": null,
            "_js2py_restyle": {},
            "_js2py_traceDeltas": null,
            "_js2py_update": {},
            "_last_layout_edit_id": 27,
            "_last_trace_edit_id": 26,
            "_layout": {
              "title": {
                "text": "Time consuming"
              }
            },
            "_model_module": "jupyterlab-plotly",
            "_model_module_version": "^5.5.0",
            "_model_name": "FigureModel",
            "_py2js_addTraces": {},
            "_py2js_animate": {},
            "_py2js_deleteTraces": {},
            "_py2js_moveTraces": {},
            "_py2js_relayout": null,
            "_py2js_removeLayoutProps": {},
            "_py2js_removeTraceProps": {},
            "_py2js_restyle": null,
            "_py2js_update": {},
            "_view_count": 1,
            "_view_module": "jupyterlab-plotly",
            "_view_module_version": "^5.5.0",
            "_view_name": "FigureView"
          }
        }
      }
    }
  },
  "nbformat": 4,
  "nbformat_minor": 0
}